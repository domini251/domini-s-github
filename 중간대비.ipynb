{
  "nbformat": 4,
  "nbformat_minor": 0,
  "metadata": {
    "colab": {
      "name": "중간대비.ipynb",
      "provenance": [],
      "collapsed_sections": [],
      "toc_visible": true,
      "authorship_tag": "ABX9TyNKJU1CxFBoUPrnDmEj7V5w",
      "include_colab_link": true
    },
    "kernelspec": {
      "name": "python3",
      "display_name": "Python 3"
    },
    "language_info": {
      "name": "python"
    }
  },
  "cells": [
    {
      "cell_type": "markdown",
      "metadata": {
        "id": "view-in-github",
        "colab_type": "text"
      },
      "source": [
        "<a href=\"https://colab.research.google.com/github/domini251/domini-s-github/blob/main/%EC%A4%91%EA%B0%84%EB%8C%80%EB%B9%84.ipynb\" target=\"_parent\"><img src=\"https://colab.research.google.com/assets/colab-badge.svg\" alt=\"Open In Colab\"/></a>"
      ]
    },
    {
      "cell_type": "markdown",
      "source": [
        "# 기출1"
      ],
      "metadata": {
        "id": "n4YvLdKF7SRF"
      }
    },
    {
      "cell_type": "markdown",
      "source": [
        "1. [3+3=6점] 홀로?\n",
        "문자열 xs를 인수로 받아서 xs에 두 번이상 나타나는 문자 가 하나라도 있으면 False를, 그렇지 않으면 True를 리턴 하는 함수 solitary를 재귀 함수로 작성하자.\n",
        "(1) 아래 뼈대 코드 형식에 맞추어 if-else 제어구조를 활\n",
        "용하여 먼저 완성하고,\n",
        "(2) 이어서 논리식만으로 다시 작성하자.\n",
        "실행 사례\n",
        "      solitary(\"\") => True\n",
        "     solitary(\"0\") => True\n",
        "  solitary(\"0120\") => False\n",
        "solitary(\"012345\") => True"
      ],
      "metadata": {
        "id": "KOt5o4Yu7TzS"
      }
    },
    {
      "cell_type": "code",
      "execution_count": null,
      "metadata": {
        "colab": {
          "base_uri": "https://localhost:8080/"
        },
        "id": "r8cJFRxck1n8",
        "outputId": "ba76ba22-c2a6-4ca0-b45a-2fe846b97fbf"
      },
      "outputs": [
        {
          "output_type": "stream",
          "name": "stdout",
          "text": [
            "True\n",
            "True\n",
            "False\n",
            "True\n"
          ]
        }
      ],
      "source": [
        "#1\n",
        "def solitary(xs):\n",
        "    if xs != '':\n",
        "        if xs[0] in xs[1:]:\n",
        "          return False\n",
        "        else:\n",
        "          return solitary(xs[1:])          \n",
        "    else:\n",
        "        return True\n",
        "#2\n",
        "def solitary(xs):\n",
        "  return xs == '' or xs[0] not in xs[1:] and solitary(xs[1:])\n",
        "    \n",
        "print(solitary(\"\"))\n",
        "print(solitary(\"0\")) \n",
        "print(solitary(\"0120\"))\n",
        "print(solitary(\"012345\"))"
      ]
    },
    {
      "cell_type": "markdown",
      "source": [
        "2. [6점] 성인 인증 함수\n",
        "생년월일을 인수로 년, 월, 일 각각 자연수로 받아서 성년인 지 확인하는 함수 check_adult를 작성하자. 만 19살이 되 는 생일부터 성년으로 인정한다. 즉, 만 19살 생일이거나 지났으면 True를 리턴하고, 그렇지 않으면 False를 리턴한 다. 파이썬 표준 라리브러리의 datetime 모듈의 date 객 체를 활용하면 오늘 날짜는 다음과 같이 년, 월, 일 별도로 얻을 수 있다.\n",
        ">>> from datetime import date\n",
        ">>> today = date.today()\n",
        ">>> today.year\n",
        "2021\n",
        ">>> today.month\n",
        "4\n",
        ">>> today.day\n",
        "21\n",
        ">>>\n",
        "인수는 모두 실제로 존재하는 년, 월, 일로만 주어진다고 가 정한다.\n",
        "실행 사례\n",
        "check_adult(2001,12,31) => True\n",
        "  check_adult(2002,3,1) => True\n",
        " check_adult(2002,4,20) => True\n",
        " check_adult(2002,4,21) => True\n",
        " check_adult(2002,4,22) => False\n",
        "  check_adult(2002,5,1) => False\n"
      ],
      "metadata": {
        "id": "VMqeHhSppUBy"
      }
    },
    {
      "cell_type": "code",
      "source": [
        "def check_adult(y,m,d):\n",
        "  from datetime import date \n",
        "  today = date.today()\n",
        "  return today.year - y > 19 or\\\n",
        "   today.year - y == 19 and today.month - m > 0 or\\\n",
        "   today.year - y == 19 and today.month - m == 0 and today.day - d >= 0\n",
        "  \n",
        "\n",
        "print(check_adult(2003,4,27))\n",
        "print(check_adult(2003,4,26))\n",
        "print(check_adult(2004,3,11))\n",
        "\n"
      ],
      "metadata": {
        "colab": {
          "base_uri": "https://localhost:8080/"
        },
        "id": "Wfuo6pv2pSyU",
        "outputId": "a1a34774-0a16-4b9e-a4bc-01f60efcddf7"
      },
      "execution_count": null,
      "outputs": [
        {
          "output_type": "stream",
          "name": "stdout",
          "text": [
            "False\n",
            "True\n",
            "False\n"
          ]
        }
      ]
    },
    {
      "cell_type": "markdown",
      "source": [
        "3. [3+2+2=7점] 2의 n 승의 누적 합\n",
        "자연수 n 까지의 모든 자연수에 대하여 2의 n 승을 누적하\n",
        "여 합하면 다음과 같다.\n",
        "1= 1 2 +1 = 3\n",
        "4 +2 +1 = 7 8 + 4 + 2 + 1 = 15\n",
        "실행 사례\n",
        "sigma_power_of_2(0) => 1\n",
        "sigma_power_of_2(1) => 3\n",
        "sigma_power_of_2(2) => 7\n",
        "sigma_power_of_2(3) => 15\n",
        "sigma_power_of_2(4) => 31\n",
        "sigma_power_of_2(5) => 63\n",
        "sigma_power_of_2(6) => 127\n",
        "sigma_power_of_2(7) => 255"
      ],
      "metadata": {
        "id": "I5llcsExtWA1"
      }
    },
    {
      "cell_type": "code",
      "source": [
        "def sigma_power_of_2(n):\n",
        "  if n > 0:\n",
        "    return 2**n + sigma_power_of_2(n-1)\n",
        "  else:\n",
        "    return 1\n",
        "def sigma_power_of_2(n):\n",
        "  def loop(n,acc):\n",
        "    if n >= 1:\n",
        "      acc += 2**n\n",
        "      return loop(n-1,acc)\n",
        "    else:\n",
        "      return acc\n",
        "  return loop(n,1)\n",
        "def sigma_power_of_2(n):\n",
        "  acc=1\n",
        "  while n>0:\n",
        "    acc += 2**n\n",
        "    n -= 1\n",
        "  return acc\n",
        "print(sigma_power_of_2(4))"
      ],
      "metadata": {
        "colab": {
          "base_uri": "https://localhost:8080/"
        },
        "id": "MO5Mlf5mtWXi",
        "outputId": "51a72ce5-ee01-4583-82fe-2c173f53915d"
      },
      "execution_count": null,
      "outputs": [
        {
          "output_type": "stream",
          "name": "stdout",
          "text": [
            "31\n"
          ]
        }
      ]
    },
    {
      "cell_type": "markdown",
      "source": [
        "4. [3+2+2+2=9점] 합집합 함수\n",
        "(1) 리스트로 표현된 두 집합을 인수로 받아서, 합집합을 리턴 해주는 재귀 함수 union을 작성하자. 인수 리스 트에는 중복된 원소가 없다고 가정한다. 그리고 리턴 하는 리스트에도 중복된 원소가 없어야 한다.\n",
        "(2) 작성한 재귀 함수를 꼬리재귀 함수로 변환하자.\n",
        "(3) 작성한 꼬리재귀 함수를 while 루프로 변환하자.\n",
        "(4) while 루프 대신, for 루프를 사용하여 함수를 재작성\n",
        "하자.\n",
        "실행 사례\n",
        "          union([],[]) => []\n",
        "       union([1,2],[]) => [1, 2]\n",
        "       union([],[3,4]) => [3, 4]\n",
        "    union([1,2],[3,4]) => [1, 2, 3, 4]\n",
        "    union([1,2],[2,3]) => [1, 2, 3]\n",
        "   union([1,2],[2,1])  => [2, 1]\n",
        "union([1,2,3],[3,2,1]) => [3, 2, 1]\n",
        "union([1,2,3],[3,2,4]) => [1, 3, 2, 4]\n",
        "union([1,2,3],[4,5,6]) => [1, 2, 3, 4, 5, 6]"
      ],
      "metadata": {
        "id": "DsudHg0wwZE4"
      }
    },
    {
      "cell_type": "code",
      "source": [
        "def union(xs,ys):\n",
        "  if xs != []:\n",
        "    if xs[0] in ys:\n",
        "      xs.remove(xs[0])\n",
        "      return union(xs,ys)\n",
        "    else:\n",
        "      a=xs[0]\n",
        "      xs.remove(xs[0])\n",
        "      return [a] + union(xs,ys)\n",
        "  else: \n",
        "    return ys\n",
        "\n",
        "def union(xs,ys):\n",
        "  def loop(xs,ys,ac):\n",
        "    if xs !=[]:\n",
        "      if xs[0] in ys:\n",
        "        xs.remove(xs[0])\n",
        "        return loop(xs,ys,ac)\n",
        "      else:\n",
        "        a = xs[0]\n",
        "        xs.remove(xs[0])\n",
        "        return loop(xs,ys,ac+[a])\n",
        "    else:\n",
        "      return ac + ys\n",
        "  return loop(xs,ys,[])\n",
        "\n",
        "def union(xs,ys):\n",
        "  ac = []\n",
        "  while xs != []:\n",
        "    if xs[0] in ys:\n",
        "      xs.remove(xs[0])\n",
        "    else:\n",
        "      a = xs[0]\n",
        "      xs.remove(xs[0])\n",
        "      ac += [a]\n",
        "    return ac + ys\n",
        "\n",
        "print(union([1,4],[2,3,4]))"
      ],
      "metadata": {
        "colab": {
          "base_uri": "https://localhost:8080/"
        },
        "id": "W2VkYQwgt8kF",
        "outputId": "e824136b-5edd-44d5-a9d1-912dda441802"
      },
      "execution_count": null,
      "outputs": [
        {
          "output_type": "stream",
          "name": "stdout",
          "text": [
            "[1, 2, 3, 4]\n"
          ]
        }
      ]
    },
    {
      "cell_type": "markdown",
      "source": [
        "5. [3+2+2=7점] 리스트에서 중복 원소 모두 없애기\n",
        "(1) 리스트 xs를 인수로 받아서 중복된 원소를 모두 리스 트에서 제거한 리스트를 리턴하는 함수 remove_duplicates를 재귀로 작성하자.\n",
        "재귀 알고리즘은 다음과 같다.\n",
        "• 선두원소가 후미리스트에 있으면 선두원소를 무시하고\n",
        "후미리스트로 재귀 호출한 결과를 리턴한다.\n",
        "• 선두원소가 후미리스트에 없으면 선두원소를 후미리스트\n",
        "로 재귀 호출한 결과와 이어붙여서 리턴한다. • 빈 리스트이면 그대로 리턴한다.\n",
        "(2) 작성한 재귀 함수를 꼬리재귀 함수로 재작성하자.\n",
        "(3) 작성한 꼬리재귀 함수를 while 루프를 이용한 함수로 재작성하자.\n",
        "실행 사례\n",
        "        remove_duplicates([3]) => [3]\n",
        "remove_duplicates([3,3,3,3,3]) => [3]\n",
        "remove_duplicates([3,1,3,1,3]) => [1,3]\n",
        "remove_duplicates([1,2,3,4,5]) => [1,2,3,4,5]"
      ],
      "metadata": {
        "id": "KDlRve3q1xWc"
      }
    },
    {
      "cell_type": "code",
      "source": [
        "def remove_duplicates(x):\n",
        "  if x != []:\n",
        "    if x[0] in x[1:]:\n",
        "      return remove_duplicates(x[1:])\n",
        "    else:\n",
        "      return [x[0]] + remove_duplicates(x[1:])\n",
        "  else:\n",
        "    return []\n",
        "\n",
        "def remove_duplicates(x):\n",
        "  def loop(x,acc):\n",
        "    if x != []:\n",
        "      if x[0] in x[1:]:\n",
        "        return loop(x[1:],acc)\n",
        "      else:\n",
        "        return loop(x[1:],acc+[x[0]])\n",
        "    else:\n",
        "      return acc\n",
        "  return loop(x,[])\n",
        "\n",
        "def remove_duplicates(x):\n",
        "  acc = []\n",
        "  while x !=[]:\n",
        "    if x[0] in x[1:]:\n",
        "      x.remove(x[0])\n",
        "    else:\n",
        "      acc += [x[0]]\n",
        "      x.remove(x[0])\n",
        "  return acc\n",
        "print(remove_duplicates([3,3,3,3,3]))\n",
        "print(remove_duplicates([3,1,3,1,3]))"
      ],
      "metadata": {
        "colab": {
          "base_uri": "https://localhost:8080/"
        },
        "id": "VqJjgfu613Vr",
        "outputId": "01bd5c32-d4ec-4eab-b9d9-c77606ee41a2"
      },
      "execution_count": null,
      "outputs": [
        {
          "output_type": "stream",
          "name": "stdout",
          "text": [
            "[3]\n",
            "[1, 3]\n"
          ]
        }
      ]
    },
    {
      "cell_type": "markdown",
      "source": [
        "# 기출2"
      ],
      "metadata": {
        "id": "Mg8X1WtC7rOB"
      }
    },
    {
      "cell_type": "markdown",
      "source": [
        "1. [3+3=6점] 거리두기?\n",
        "문자열 xs를 인수로 받아서 인접한 문자가 같은 경우가 하 나도 없으면 True를, 하나라도 있으면 False를 리턴하는 함수 distanced를 재귀 함수로 작성하자.\n",
        "(1) 아래 뼈대 코드 형식에 맞추어 if-else 제어구조를 활\n",
        "용하여 먼저 완성하고,\n",
        "(2) 이어서 논리식만으로 다시 작성하자.\n",
        "실행 사례\n",
        "          distanced(\"\") => True   \n",
        "          distanced(\"0\") => True\n",
        "          distanced(\"00\") => False\n",
        "          distanced(\"0122345\") => False\n",
        "          distanced(\"0123456\") => True\n"
      ],
      "metadata": {
        "id": "AsqmUVIE7r4t"
      }
    },
    {
      "cell_type": "code",
      "source": [
        "'''def distanced(xs):\n",
        "  if len(xs) >1:\n",
        "      if xs[0] == xs[1]:\n",
        "        return False\n",
        "      else:\n",
        "        return distanced(xs[1:])\n",
        "  else:\n",
        "    return True'''\n",
        "\n",
        "def distanced(xs):\n",
        "  return len(xs)<=1 or not xs[0] == xs[1] and distanced(xs[1:])\n",
        "\n",
        "print(distanced(\"\"))\n",
        "print(distanced(\"0\")) \n",
        "print(distanced(\"00\")) \n",
        "print(distanced(\"0122345\"))\n",
        "print(distanced(\"0123456\")) "
      ],
      "metadata": {
        "colab": {
          "base_uri": "https://localhost:8080/"
        },
        "id": "MdJ5rUHR7sMa",
        "outputId": "be2c256d-2a8b-4303-86aa-7c9bde4b1f55"
      },
      "execution_count": null,
      "outputs": [
        {
          "output_type": "stream",
          "name": "stdout",
          "text": [
            "True\n",
            "True\n",
            "False\n",
            "False\n",
            "True\n"
          ]
        }
      ]
    },
    {
      "cell_type": "markdown",
      "source": [
        "2. [6점] 만 나이 계산 함수\n",
        "생년월일을 인수로 년, 월, 일 각각 자연수로 받아 만으로 몇 살인지 알려주는 함수 how_old를 작성하자. 태어나는 날부터 만 0살이고, 1년 후 돌이 되는 날 만 1살이 된다. 예 를 들어, 2002년 9월 15일 생은 2022년 9월 15일에 만 20 살이 되고, 2021년 4월에는 만 18살이다. 파이썬 표준 라 리브러리의 datetime 모듈의 date 객체를 활용하면 오늘 날짜는 다음과 같이 년, 월, 일 별도로 얻을 수 있다.\n",
        ">>> from datetime import date\n",
        ">>> today = date.today()\n",
        ">>> today.year\n",
        "2021\n",
        ">>> today.month\n",
        "4\n",
        ">>> today.day\n",
        "23\n",
        ">>>\n",
        "인수는 모두 실제로 존재하는 년, 월, 일로만 주어진다고 가 정한다.\n",
        "실행 사례\n",
        "        how_old(2021,4,24) => -1\n",
        "        how_old(2021,4,23) => 0\n",
        "        how_old(2002,4,22) => 19\n",
        "        how_old(2002,4,23) => 19\n",
        "        how_old(2002,4,24) => 18\n",
        "        how_old(2002,3,22) => 19\n",
        "        how_old(2002,3,24) => 19\n",
        "        how_old(2002,5,22) => 18\n",
        "        how_old(2002,5,24) => 18"
      ],
      "metadata": {
        "id": "xjde7VH8A6Sz"
      }
    },
    {
      "cell_type": "code",
      "source": [
        "def how_old(y,m,d):\n",
        "  from datetime import date\n",
        "  today = date.today()\n",
        "  if today.month > m:\n",
        "    return today.year - y\n",
        "  elif today.month <= m:\n",
        "    if today.month == m and today.day - d >= 0:\n",
        "      return today.year - y\n",
        "    else:\n",
        "      return today.year - y - 1\n",
        "\n",
        "print(how_old(2022,4,23))\n",
        "print(how_old(2003,4,25))\n",
        "print(how_old(2003,4,26))\n",
        "print(how_old(2003,4,27))\n",
        "print(how_old(2003,3,25))\n",
        "print(how_old(2003,3,26))\n",
        "print(how_old(2003,5,25))\n",
        "print(how_old(2003,5,27))"
      ],
      "metadata": {
        "colab": {
          "base_uri": "https://localhost:8080/"
        },
        "id": "6N7lWFhWA6yb",
        "outputId": "5682f2ab-3d09-4ebf-d4fd-8882787776fc"
      },
      "execution_count": null,
      "outputs": [
        {
          "output_type": "stream",
          "name": "stdout",
          "text": [
            "0\n",
            "19\n",
            "19\n",
            "18\n",
            "19\n",
            "19\n",
            "18\n",
            "18\n"
          ]
        }
      ]
    },
    {
      "cell_type": "markdown",
      "source": [
        "3. [3+2+2=7점] 자연수 짝수열 n개의 누적 합\n",
        "자연수 짝수를 증가하는 순으로 누적하여 합하면 다음과 같 다.\n",
        "2= 2 4 +2 = 6\n",
        "6 + 4 + 2 = 12 8 + 6 + 4 + 2 = 20 10 + 8 + 6 + 4 + 2 = 30\n",
        "...\n",
        "2 x n + ... + 10 + 8 + 6 + 4 + 2 = sigma_even(n)\n",
        "이와 같이 자연수 짝수열 n 개의 누적 합을 계산하는 (1) 재 귀 함수 sigma_even을 구현하고, 이어서 (2) 꼬리재귀 함 수, (3) while 루프 함수로 변환하자.\n",
        "실행 사례\n",
        "        sigma_even(0) => 0\n",
        "        sigma_even(1) => 2\n",
        "        sigma_even(2) => 6\n",
        "        sigma_even(3) => 12\n",
        "        sigma_even(4) => 20\n",
        "        sigma_even(5) => 30\n",
        "        sigma_even(6) => 42\n",
        "        sigma_even(7) => 56"
      ],
      "metadata": {
        "id": "BXXTN9PhHClO"
      }
    },
    {
      "cell_type": "code",
      "source": [
        "\"\"\"def sigma_even(n):\n",
        "  if n > 0:\n",
        "    return 2*n + sigma_even(n-1)\n",
        "  else:\n",
        "    return 0\n",
        "\n",
        "def sigma_even(n):\n",
        "  def loop(n,acc):\n",
        "    if n > 0:\n",
        "      return loop(n-1,acc+2*n)\n",
        "    else:\n",
        "      return acc\n",
        "  return loop(n,0)\"\"\"\n",
        "\n",
        "def sigma_even(n):\n",
        "  acc = 0\n",
        "  while n >0:\n",
        "    acc+=2*n\n",
        "    n -= 1\n",
        "  return acc\n",
        "print(sigma_even(0))\n",
        "print(sigma_even(1))\n",
        "print(sigma_even(2))\n",
        "print(sigma_even(3))\n",
        "print(sigma_even(4))\n",
        "print(sigma_even(5))\n",
        "print(sigma_even(6))\n",
        "print(sigma_even(7))"
      ],
      "metadata": {
        "colab": {
          "base_uri": "https://localhost:8080/"
        },
        "id": "Pl-FhXN_HC8N",
        "outputId": "dbf86c86-5f91-4f22-c1fa-cfbfc4017acb"
      },
      "execution_count": null,
      "outputs": [
        {
          "output_type": "stream",
          "name": "stdout",
          "text": [
            "0\n",
            "2\n",
            "6\n",
            "12\n",
            "20\n",
            "30\n",
            "42\n",
            "56\n"
          ]
        }
      ]
    },
    {
      "cell_type": "markdown",
      "source": [
        "4. [3+2+2+2=9점] 차집합 함수\n",
        "(1) 리스트로 표현된 두 집합을 인수로 받아서, 차집합을\n",
        "리턴해주는 재귀 함수 difference를 작성하자. 인수 리스트에는 중복된 원소가 없다고 가정한다. 그리고 리 턴하는 리스트에도 중복된 원소가 없어야 한다.\n",
        "(2) 작성한 재귀 함수를 꼬리재귀 함수로 변환하자.\n",
        "(3) 작성한 꼬리재귀 함수를 while 루프로 변환하자.\n",
        "(4) while 루프 대신, for 루프를 사용하여 함수를 재작성\n",
        "하자.\n",
        "실행 사례\n",
        "       difference([],[]) => []\n",
        "       difference([1,2],[]) => [1, 2]\n",
        "       difference([],[3,4]) => []\n",
        "       difference([1,2],[3,4]) => [1, 2]\n",
        "       difference([1,2],[2,3]) => [1]\n",
        "       difference([1,2],[2,1]) => []\n",
        "       difference([1,2,3],[3,2,1]) => []\n",
        "       difference([1,2,3],[3,2,4]) => [1]\n",
        "       difference([1,2,3],[4,5,6]) => [1, 2, 3]"
      ],
      "metadata": {
        "id": "7IPfP233JX6-"
      }
    },
    {
      "cell_type": "code",
      "source": [
        "def difference(xs,ys):\n",
        "  if xs != []:\n",
        "    if xs[0] in ys:\n",
        "      a=xs[0]\n",
        "      ys.remove(a)\n",
        "      xs.remove(a)\n",
        "      return difference(xs,ys)\n",
        "    else:\n",
        "      return [xs[0]] + difference(xs[1:],ys)\n",
        "  else:\n",
        "    return []\n",
        "\n",
        "print(difference([],[]))\n",
        "print(difference([1,2],[]))\n",
        "print(difference([],[3,4]))\n",
        "print(difference([1,2],[3,4]))\n",
        "print(difference([1,2],[2,3]))\n",
        "print(difference([1,2],[2,1]))\n",
        "print(difference([1,2,3],[3,2,1]))\n",
        "print(difference([1,2,3],[3,2,4]))\n",
        "print(difference([1,2,3],[4,5,6]))"
      ],
      "metadata": {
        "colab": {
          "base_uri": "https://localhost:8080/"
        },
        "id": "QF0ta2qKJYXt",
        "outputId": "2379648e-7d9e-4406-eac1-410f7ce7b472"
      },
      "execution_count": null,
      "outputs": [
        {
          "output_type": "stream",
          "name": "stdout",
          "text": [
            "[]\n",
            "[1, 2]\n",
            "[]\n",
            "[1, 2]\n",
            "[1]\n",
            "[]\n",
            "[]\n",
            "[1]\n",
            "[1, 2, 3]\n"
          ]
        }
      ]
    },
    {
      "cell_type": "markdown",
      "source": [
        "5. [3+2+2=7점] 리스트의 선두에서 연속 동일 원소 모두 리스트로 모으기\n",
        "(1) 리스트 xs를 인수로 받아서 선두 부분에서 같은 원소로 이어지는 부분만 리스트로 리턴하는 함수 head_equiv를 재귀로 작성하자.\n",
        "재귀 알고리즘은 다음과 같다.\n",
        "• 원소가 하나만 있는 경우에는 그대로 리턴한다.\n",
        "• 원소가둘이상있는경우,선두원소와바로다음원소\n",
        "를 비교하여\n",
        "• 다르면 선두 원소만으로 구성한 리스트를 리턴한다.\n",
        "• 같으면 선두원소를 후미리스트로 재귀 호출한 결과와 이\n",
        "어붙여서 리턴한다.\n",
        "(2) 작성한 재귀 함수를 꼬리재귀 함수로 재작성하자.\n",
        "(3) 작성한 꼬리재귀 함수를 while 루프를 이용한 함수로 재작성하자.\n",
        "실행 사례\n",
        "       head_equiv([]) => []\n",
        "       head_equiv([2]) => [2]\n",
        "       head_equiv([2,3]) => [2]\n",
        "       head_equiv([2,2]) => [2,2]\n",
        "       head_equiv([2,2,2]) => [2,2,2]\n",
        "       head_equiv([2,2,2,3,3]) => [2,2,2]"
      ],
      "metadata": {
        "id": "RlAIsD_MMH7s"
      }
    },
    {
      "cell_type": "code",
      "source": [
        "def head_equiv(xs):\n",
        "  if len(xs)>1:\n",
        "    if xs[0] == xs[1]:\n",
        "      a = xs[0]\n",
        "      return [a] + head_equiv(xs[1:])\n",
        "    else:\n",
        "      return [xs[0]]\n",
        "  else:\n",
        "    return xs\n",
        "\n",
        "def head_equiv(xs):\n",
        "  def loop(xs,acc):\n",
        "    if len(xs)>1:\n",
        "      if xs[0]==xs[1]:\n",
        "        acc.append(xs[0])\n",
        "        return loop(xs[1:],acc)\n",
        "      else:\n",
        "        acc.append(xs[0])\n",
        "        return acc\n",
        "    else:\n",
        "      return acc+xs\n",
        "  return loop(xs,[])\n",
        "\n",
        "def head_equiv(xs):\n",
        "  acc =[]\n",
        "  while len(xs)>1:\n",
        "    acc.append(xs[0])\n",
        "    if xs[0] == xs[1]:\n",
        "      xs.remove(xs[0])\n",
        "    else:\n",
        "      return acc\n",
        "  return acc+xs\n",
        "print(head_equiv([]))\n",
        "print(head_equiv([2]))\n",
        "print(head_equiv([2,3]))\n",
        "print(head_equiv([2,2]))\n",
        "print(head_equiv([2,2,2]))\n",
        "print(head_equiv([2,2,2,3,3]))"
      ],
      "metadata": {
        "colab": {
          "base_uri": "https://localhost:8080/"
        },
        "id": "axnPAZfuMITq",
        "outputId": "4c046616-40a3-4d8d-f638-6dd3477da6eb"
      },
      "execution_count": null,
      "outputs": [
        {
          "output_type": "stream",
          "name": "stdout",
          "text": [
            "[]\n",
            "[2]\n",
            "[2]\n",
            "[2, 2]\n",
            "[2, 2, 2]\n",
            "[2, 2, 2]\n"
          ]
        }
      ]
    }
  ]
}